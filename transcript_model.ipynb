{
  "nbformat": 4,
  "nbformat_minor": 0,
  "metadata": {
    "colab": {
      "provenance": []
    },
    "kernelspec": {
      "name": "python3",
      "display_name": "Python 3"
    },
    "language_info": {
      "name": "python"
    }
  },
  "cells": [
    {
      "cell_type": "code",
      "execution_count": 21,
      "metadata": {
        "id": "EIuaNR8rhR4r"
      },
      "outputs": [],
      "source": [
        "from re import X\n",
        "import tensorflow as tf\n",
        "import tensorflow_hub as hub\n",
        "import pandas as pd\n",
        "from sklearn import preprocessing, model_selection\n",
        "import keras\n",
        "import numpy as np"
      ]
    },
    {
      "cell_type": "code",
      "source": [
        "url = \"https://tfhub.dev/google/universal-sentence-encoder-large/3\"\n",
        "embed = hub.KerasLayer(url)"
      ],
      "metadata": {
        "id": "dM6hU9NNhmwl"
      },
      "execution_count": 22,
      "outputs": []
    },
    {
      "cell_type": "code",
      "source": [
        "data = pd.read_csv(\"transcript_data.csv\", encoding=\"latin-1\")"
      ],
      "metadata": {
        "id": "geNKTZLDh8SF"
      },
      "execution_count": 23,
      "outputs": []
    },
    {
      "cell_type": "code",
      "source": [
        "y = list(data['v1'])\n",
        "x = list(data['v2'])"
      ],
      "metadata": {
        "id": "4bPEuyyXDjDw"
      },
      "execution_count": 24,
      "outputs": []
    },
    {
      "cell_type": "code",
      "source": [
        "le = preprocessing.LabelEncoder()\n",
        "le.fit(y)"
      ],
      "metadata": {
        "id": "r9X6D0gHDrDH",
        "colab": {
          "base_uri": "https://localhost:8080/"
        },
        "outputId": "0f661599-adea-4fdf-bc1f-7a70b1db2d27"
      },
      "execution_count": 25,
      "outputs": [
        {
          "output_type": "execute_result",
          "data": {
            "text/plain": [
              "LabelEncoder()"
            ]
          },
          "metadata": {},
          "execution_count": 25
        }
      ]
    },
    {
      "cell_type": "code",
      "source": [
        "def encode(le, labels):\n",
        "  enc = le.transform(labels)\n",
        "  return keras.utils.to_categorical(enc)\n",
        "\n",
        "def decode(le, one_hot):\n",
        "  dec = np.argmax(one_hot, axis=1)\n",
        "  return le.inverse_transform(dec)"
      ],
      "metadata": {
        "id": "XxgWJ5MNEoO4"
      },
      "execution_count": 26,
      "outputs": []
    },
    {
      "cell_type": "code",
      "source": [
        "test = encode(le, ['class_name','other','other','class_name'])\n",
        "test"
      ],
      "metadata": {
        "colab": {
          "base_uri": "https://localhost:8080/"
        },
        "id": "7xR8AtlJFGYT",
        "outputId": "dfc92e46-8cca-433f-dd0a-0a2216833749"
      },
      "execution_count": 27,
      "outputs": [
        {
          "output_type": "execute_result",
          "data": {
            "text/plain": [
              "array([[0., 1., 0.],\n",
              "       [0., 0., 1.],\n",
              "       [0., 0., 1.],\n",
              "       [0., 1., 0.]], dtype=float32)"
            ]
          },
          "metadata": {},
          "execution_count": 27
        }
      ]
    },
    {
      "cell_type": "code",
      "source": [
        "untest = decode(le, test)\n",
        "untest"
      ],
      "metadata": {
        "colab": {
          "base_uri": "https://localhost:8080/"
        },
        "id": "sy8WJmhSGlHw",
        "outputId": "36599d42-4c59-4d8b-ae2e-ee46a8fdd90b"
      },
      "execution_count": 28,
      "outputs": [
        {
          "output_type": "execute_result",
          "data": {
            "text/plain": [
              "array(['class_name', 'other', 'other', 'class_name'], dtype='<U10')"
            ]
          },
          "metadata": {},
          "execution_count": 28
        }
      ]
    },
    {
      "cell_type": "markdown",
      "source": [
        "#***To be clear, we will need to increase the size of this dataset***\n",
        "\n",
        "currently each cell value represents one line read from the OCR in the csv"
      ],
      "metadata": {
        "id": "FC8TJK6DJDJg"
      }
    },
    {
      "cell_type": "code",
      "source": [
        "x_enc = x\n",
        "y_enc = encode(le, y)\n",
        "\n",
        "x_train = np.asarray(x_enc[:-20])\n",
        "y_train = np.asarray(y_enc[:-20])\n",
        "\n",
        "x_test = np.asarray(x_enc[-20:])\n",
        "y_test = np.asarray(y_enc[-20:])"
      ],
      "metadata": {
        "id": "rx4G_Y1TGtiw"
      },
      "execution_count": 39,
      "outputs": []
    },
    {
      "cell_type": "code",
      "source": [
        "from keras.layers import Input, Lambda, Dense\n",
        "from keras.models import Model\n",
        "import keras.backend as K"
      ],
      "metadata": {
        "id": "O-eVAmY-JSff"
      },
      "execution_count": 40,
      "outputs": []
    },
    {
      "cell_type": "code",
      "source": [
        "# converting string words into numerical vectors\n",
        "def UniversalEmbedding(x):\n",
        "  return embed(tf.squeeze(tf.cast(x, tf.string)))"
      ],
      "metadata": {
        "id": "itoLDt0sJsWw"
      },
      "execution_count": 41,
      "outputs": []
    },
    {
      "cell_type": "code",
      "source": [
        "input_text = Input(shape=(1,),dtype=tf.string)\n",
        "embedding = Lambda(UniversalEmbedding,output_shape=(512,))(input_text)\n",
        "dense = Dense(256,activation='relu')(embedding)\n",
        "pred = Dense(3,activation='softmax')(dense)\n",
        "model = Model(inputs=[input_text],outputs=pred)\n",
        "model.compile(loss='categorical_crossentropy', optimizer='adam',metrics=['accuracy'])"
      ],
      "metadata": {
        "id": "diJ7IhGZJ50h"
      },
      "execution_count": 42,
      "outputs": []
    },
    {
      "cell_type": "code",
      "source": [
        "history = model.fit(x_train, y_train, epochs=3, batch_size=32)\n",
        "model.save_weights('./model.h5')"
      ],
      "metadata": {
        "colab": {
          "base_uri": "https://localhost:8080/"
        },
        "id": "3j_k-NvnP08z",
        "outputId": "b85c95c2-3e70-46ea-e983-a70c0bf7fe5e"
      },
      "execution_count": 43,
      "outputs": [
        {
          "output_type": "stream",
          "name": "stdout",
          "text": [
            "Epoch 1/3\n",
            "5/5 [==============================] - 3s 282ms/step - loss: 1.0544 - accuracy: 0.6026\n",
            "Epoch 2/3\n",
            "5/5 [==============================] - 1s 253ms/step - loss: 0.8758 - accuracy: 0.8411\n",
            "Epoch 3/3\n",
            "5/5 [==============================] - 1s 280ms/step - loss: 0.7324 - accuracy: 0.8477\n"
          ]
        }
      ]
    },
    {
      "cell_type": "code",
      "source": [
        "model.load_weights('./model.h5')\n",
        "preds = model.predict(x_test,batch_size=32)"
      ],
      "metadata": {
        "colab": {
          "base_uri": "https://localhost:8080/"
        },
        "id": "aj5A1bi7YXvD",
        "outputId": "ab3d8f9f-4454-459c-bbe6-22c7ca9e7fb7"
      },
      "execution_count": 44,
      "outputs": [
        {
          "output_type": "stream",
          "name": "stdout",
          "text": [
            "1/1 [==============================] - 1s 1s/step\n"
          ]
        }
      ]
    },
    {
      "cell_type": "code",
      "source": [
        "y_test = decode(le, y_test)\n",
        "y_preds = decode(le, preds)\n",
        "y_preds"
      ],
      "metadata": {
        "colab": {
          "base_uri": "https://localhost:8080/"
        },
        "id": "L0mNfYTxYvIc",
        "outputId": "33821be8-19bd-4ad6-a539-8afa72a6a6de"
      },
      "execution_count": 45,
      "outputs": [
        {
          "output_type": "execute_result",
          "data": {
            "text/plain": [
              "array(['No_value', 'No_value', 'No_value', 'No_value', 'No_value',\n",
              "       'No_value', 'No_value', 'No_value', 'class_name', 'No_value',\n",
              "       'No_value', 'No_value', 'No_value', 'No_value', 'class_name',\n",
              "       'No_value', 'No_value', 'class_name', 'No_value', 'No_value'],\n",
              "      dtype='<U10')"
            ]
          },
          "metadata": {},
          "execution_count": 45
        }
      ]
    },
    {
      "cell_type": "code",
      "source": [
        "from sklearn import metrics\n",
        "metrics.confusion_matrix(y_test,y_preds)\n",
        "print(metrics.classification_report(y_test,y_preds))"
      ],
      "metadata": {
        "colab": {
          "base_uri": "https://localhost:8080/"
        },
        "id": "gaAyBIahZA4v",
        "outputId": "1579e102-559f-4ea3-bdfe-11e8537088e8"
      },
      "execution_count": 47,
      "outputs": [
        {
          "output_type": "stream",
          "name": "stdout",
          "text": [
            "              precision    recall  f1-score   support\n",
            "\n",
            "    No_value       0.76      0.93      0.84        14\n",
            "  class_name       0.33      1.00      0.50         1\n",
            "       other       0.00      0.00      0.00         5\n",
            "\n",
            "    accuracy                           0.70        20\n",
            "   macro avg       0.37      0.64      0.45        20\n",
            "weighted avg       0.55      0.70      0.61        20\n",
            "\n"
          ]
        },
        {
          "output_type": "stream",
          "name": "stderr",
          "text": [
            "/usr/local/lib/python3.8/dist-packages/sklearn/metrics/_classification.py:1318: UndefinedMetricWarning: Precision and F-score are ill-defined and being set to 0.0 in labels with no predicted samples. Use `zero_division` parameter to control this behavior.\n",
            "  _warn_prf(average, modifier, msg_start, len(result))\n",
            "/usr/local/lib/python3.8/dist-packages/sklearn/metrics/_classification.py:1318: UndefinedMetricWarning: Precision and F-score are ill-defined and being set to 0.0 in labels with no predicted samples. Use `zero_division` parameter to control this behavior.\n",
            "  _warn_prf(average, modifier, msg_start, len(result))\n",
            "/usr/local/lib/python3.8/dist-packages/sklearn/metrics/_classification.py:1318: UndefinedMetricWarning: Precision and F-score are ill-defined and being set to 0.0 in labels with no predicted samples. Use `zero_division` parameter to control this behavior.\n",
            "  _warn_prf(average, modifier, msg_start, len(result))\n"
          ]
        }
      ]
    }
  ]
}